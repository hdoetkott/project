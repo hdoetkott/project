{
 "cells": [
  {
   "cell_type": "markdown",
   "id": "e236528a",
   "metadata": {},
   "source": [
    "<font color='red'> Sprint 4 Project"
   ]
  },
  {
   "cell_type": "markdown",
   "id": "f1631482",
   "metadata": {},
   "source": [
    "<font color='red'>the plan for this project\n",
    "1. create streamlit with render, add a streamlit configuration file to git repository at .streamlit/config.toml\n",
    "    \n",
    "2. create account on render.com and create a new web service\n",
    "3. Create a new web service linked to Github repository\n",
    "4. Configure the new Render web service. at Build Command, add pip install streamlit & pip install -r requirements.txt\n",
    "add Start Command, add: streamlit run app.py\n",
    "5. Deploy to Render,\n",
    "6. Verify application is accessible at the following URL: https://sprint4-1kgb.onrender.com/\n",
    "    <font color='red'>"
   ]
  },
  {
   "cell_type": "code",
   "execution_count": 1,
   "id": "b27a31fe",
   "metadata": {},
   "outputs": [],
   "source": [
    "import pandas as pd\n",
    "import matplotlib.pyplot as plt\n",
    "import numpy as np\n",
    "import streamlit as st\n",
    "import seaborn as sns\n",
    "\n",
    "df = pd.read_csv('/Users/hannysetiawan/Downloads/vehicles_us.csv', sep=',')"
   ]
  },
  {
   "cell_type": "markdown",
   "id": "ad58da0d",
   "metadata": {},
   "source": [
    "<font color='red'> display table"
   ]
  },
  {
   "cell_type": "code",
   "execution_count": 2,
   "id": "36b5d87a",
   "metadata": {},
   "outputs": [
    {
     "data": {
      "text/html": [
       "<div>\n",
       "<style scoped>\n",
       "    .dataframe tbody tr th:only-of-type {\n",
       "        vertical-align: middle;\n",
       "    }\n",
       "\n",
       "    .dataframe tbody tr th {\n",
       "        vertical-align: top;\n",
       "    }\n",
       "\n",
       "    .dataframe thead th {\n",
       "        text-align: right;\n",
       "    }\n",
       "</style>\n",
       "<table border=\"1\" class=\"dataframe\">\n",
       "  <thead>\n",
       "    <tr style=\"text-align: right;\">\n",
       "      <th></th>\n",
       "      <th>price</th>\n",
       "      <th>model_year</th>\n",
       "      <th>model</th>\n",
       "      <th>condition</th>\n",
       "      <th>cylinders</th>\n",
       "      <th>fuel</th>\n",
       "      <th>odometer</th>\n",
       "      <th>transmission</th>\n",
       "      <th>type</th>\n",
       "      <th>paint_color</th>\n",
       "      <th>is_4wd</th>\n",
       "      <th>date_posted</th>\n",
       "      <th>days_listed</th>\n",
       "    </tr>\n",
       "  </thead>\n",
       "  <tbody>\n",
       "    <tr>\n",
       "      <th>0</th>\n",
       "      <td>9400</td>\n",
       "      <td>2011.0</td>\n",
       "      <td>bmw x5</td>\n",
       "      <td>good</td>\n",
       "      <td>6.0</td>\n",
       "      <td>gas</td>\n",
       "      <td>145000.0</td>\n",
       "      <td>automatic</td>\n",
       "      <td>SUV</td>\n",
       "      <td>NaN</td>\n",
       "      <td>1.0</td>\n",
       "      <td>2018-06-23</td>\n",
       "      <td>19</td>\n",
       "    </tr>\n",
       "    <tr>\n",
       "      <th>1</th>\n",
       "      <td>25500</td>\n",
       "      <td>NaN</td>\n",
       "      <td>ford f-150</td>\n",
       "      <td>good</td>\n",
       "      <td>6.0</td>\n",
       "      <td>gas</td>\n",
       "      <td>88705.0</td>\n",
       "      <td>automatic</td>\n",
       "      <td>pickup</td>\n",
       "      <td>white</td>\n",
       "      <td>1.0</td>\n",
       "      <td>2018-10-19</td>\n",
       "      <td>50</td>\n",
       "    </tr>\n",
       "    <tr>\n",
       "      <th>2</th>\n",
       "      <td>5500</td>\n",
       "      <td>2013.0</td>\n",
       "      <td>hyundai sonata</td>\n",
       "      <td>like new</td>\n",
       "      <td>4.0</td>\n",
       "      <td>gas</td>\n",
       "      <td>110000.0</td>\n",
       "      <td>automatic</td>\n",
       "      <td>sedan</td>\n",
       "      <td>red</td>\n",
       "      <td>NaN</td>\n",
       "      <td>2019-02-07</td>\n",
       "      <td>79</td>\n",
       "    </tr>\n",
       "    <tr>\n",
       "      <th>3</th>\n",
       "      <td>1500</td>\n",
       "      <td>2003.0</td>\n",
       "      <td>ford f-150</td>\n",
       "      <td>fair</td>\n",
       "      <td>8.0</td>\n",
       "      <td>gas</td>\n",
       "      <td>NaN</td>\n",
       "      <td>automatic</td>\n",
       "      <td>pickup</td>\n",
       "      <td>NaN</td>\n",
       "      <td>NaN</td>\n",
       "      <td>2019-03-22</td>\n",
       "      <td>9</td>\n",
       "    </tr>\n",
       "    <tr>\n",
       "      <th>4</th>\n",
       "      <td>14900</td>\n",
       "      <td>2017.0</td>\n",
       "      <td>chrysler 200</td>\n",
       "      <td>excellent</td>\n",
       "      <td>4.0</td>\n",
       "      <td>gas</td>\n",
       "      <td>80903.0</td>\n",
       "      <td>automatic</td>\n",
       "      <td>sedan</td>\n",
       "      <td>black</td>\n",
       "      <td>NaN</td>\n",
       "      <td>2019-04-02</td>\n",
       "      <td>28</td>\n",
       "    </tr>\n",
       "  </tbody>\n",
       "</table>\n",
       "</div>"
      ],
      "text/plain": [
       "   price  model_year           model  condition  cylinders fuel  odometer  \\\n",
       "0   9400      2011.0          bmw x5       good        6.0  gas  145000.0   \n",
       "1  25500         NaN      ford f-150       good        6.0  gas   88705.0   \n",
       "2   5500      2013.0  hyundai sonata   like new        4.0  gas  110000.0   \n",
       "3   1500      2003.0      ford f-150       fair        8.0  gas       NaN   \n",
       "4  14900      2017.0    chrysler 200  excellent        4.0  gas   80903.0   \n",
       "\n",
       "  transmission    type paint_color  is_4wd date_posted  days_listed  \n",
       "0    automatic     SUV         NaN     1.0  2018-06-23           19  \n",
       "1    automatic  pickup       white     1.0  2018-10-19           50  \n",
       "2    automatic   sedan         red     NaN  2019-02-07           79  \n",
       "3    automatic  pickup         NaN     NaN  2019-03-22            9  \n",
       "4    automatic   sedan       black     NaN  2019-04-02           28  "
      ]
     },
     "execution_count": 2,
     "metadata": {},
     "output_type": "execute_result"
    }
   ],
   "source": [
    "df.head()"
   ]
  },
  {
   "cell_type": "markdown",
   "id": "c0a7be51",
   "metadata": {},
   "source": []
  },
  {
   "cell_type": "code",
   "execution_count": 3,
   "id": "ff133c1d",
   "metadata": {},
   "outputs": [
    {
     "data": {
      "text/html": [
       "<div>\n",
       "<style scoped>\n",
       "    .dataframe tbody tr th:only-of-type {\n",
       "        vertical-align: middle;\n",
       "    }\n",
       "\n",
       "    .dataframe tbody tr th {\n",
       "        vertical-align: top;\n",
       "    }\n",
       "\n",
       "    .dataframe thead th {\n",
       "        text-align: right;\n",
       "    }\n",
       "</style>\n",
       "<table border=\"1\" class=\"dataframe\">\n",
       "  <thead>\n",
       "    <tr style=\"text-align: right;\">\n",
       "      <th></th>\n",
       "      <th>count</th>\n",
       "      <th>mean</th>\n",
       "      <th>std</th>\n",
       "      <th>min</th>\n",
       "      <th>25%</th>\n",
       "      <th>50%</th>\n",
       "      <th>75%</th>\n",
       "      <th>max</th>\n",
       "    </tr>\n",
       "  </thead>\n",
       "  <tbody>\n",
       "    <tr>\n",
       "      <th>price</th>\n",
       "      <td>51525</td>\n",
       "      <td>12132</td>\n",
       "      <td>10040</td>\n",
       "      <td>1</td>\n",
       "      <td>5000</td>\n",
       "      <td>9000</td>\n",
       "      <td>16839</td>\n",
       "      <td>375000</td>\n",
       "    </tr>\n",
       "    <tr>\n",
       "      <th>model_year</th>\n",
       "      <td>47906</td>\n",
       "      <td>2009</td>\n",
       "      <td>6</td>\n",
       "      <td>1908</td>\n",
       "      <td>2006</td>\n",
       "      <td>2011</td>\n",
       "      <td>2014</td>\n",
       "      <td>2019</td>\n",
       "    </tr>\n",
       "    <tr>\n",
       "      <th>cylinders</th>\n",
       "      <td>46265</td>\n",
       "      <td>6</td>\n",
       "      <td>1</td>\n",
       "      <td>3</td>\n",
       "      <td>4</td>\n",
       "      <td>6</td>\n",
       "      <td>8</td>\n",
       "      <td>12</td>\n",
       "    </tr>\n",
       "    <tr>\n",
       "      <th>odometer</th>\n",
       "      <td>43633</td>\n",
       "      <td>115553</td>\n",
       "      <td>65094</td>\n",
       "      <td>0</td>\n",
       "      <td>70000</td>\n",
       "      <td>113000</td>\n",
       "      <td>155000</td>\n",
       "      <td>990000</td>\n",
       "    </tr>\n",
       "    <tr>\n",
       "      <th>is_4wd</th>\n",
       "      <td>25572</td>\n",
       "      <td>1</td>\n",
       "      <td>0</td>\n",
       "      <td>1</td>\n",
       "      <td>1</td>\n",
       "      <td>1</td>\n",
       "      <td>1</td>\n",
       "      <td>1</td>\n",
       "    </tr>\n",
       "    <tr>\n",
       "      <th>days_listed</th>\n",
       "      <td>51525</td>\n",
       "      <td>39</td>\n",
       "      <td>28</td>\n",
       "      <td>0</td>\n",
       "      <td>19</td>\n",
       "      <td>33</td>\n",
       "      <td>53</td>\n",
       "      <td>271</td>\n",
       "    </tr>\n",
       "  </tbody>\n",
       "</table>\n",
       "</div>"
      ],
      "text/plain": [
       "             count    mean    std   min    25%     50%     75%     max\n",
       "price        51525   12132  10040     1   5000    9000   16839  375000\n",
       "model_year   47906    2009      6  1908   2006    2011    2014    2019\n",
       "cylinders    46265       6      1     3      4       6       8      12\n",
       "odometer     43633  115553  65094     0  70000  113000  155000  990000\n",
       "is_4wd       25572       1      0     1      1       1       1       1\n",
       "days_listed  51525      39     28     0     19      33      53     271"
      ]
     },
     "execution_count": 3,
     "metadata": {},
     "output_type": "execute_result"
    }
   ],
   "source": [
    "df.describe().T.astype(int)"
   ]
  },
  {
   "cell_type": "code",
   "execution_count": 4,
   "id": "39a6df2a",
   "metadata": {},
   "outputs": [
    {
     "data": {
      "text/plain": [
       "0"
      ]
     },
     "execution_count": 4,
     "metadata": {},
     "output_type": "execute_result"
    }
   ],
   "source": [
    "df.duplicated().sum()"
   ]
  },
  {
   "cell_type": "markdown",
   "id": "9ad00a00",
   "metadata": {},
   "source": [
    "<font color='red'>no duplicate found"
   ]
  },
  {
   "cell_type": "code",
   "execution_count": 5,
   "id": "6386078a",
   "metadata": {},
   "outputs": [
    {
     "data": {
      "text/plain": [
       "0.7117515769044154"
      ]
     },
     "execution_count": 5,
     "metadata": {},
     "output_type": "execute_result"
    }
   ],
   "source": [
    "len(df[df.isnull().any(axis=1)])/len(df)"
   ]
  },
  {
   "cell_type": "markdown",
   "id": "988f0bb4",
   "metadata": {},
   "source": [
    "<font color='red'>70% of rows has at least one missing value"
   ]
  },
  {
   "cell_type": "code",
   "execution_count": 6,
   "id": "195cd8de",
   "metadata": {},
   "outputs": [
    {
     "data": {
      "text/plain": [
       "price               0\n",
       "model_year       3619\n",
       "model               0\n",
       "condition           0\n",
       "cylinders        5260\n",
       "fuel                0\n",
       "odometer         7892\n",
       "transmission        0\n",
       "type                0\n",
       "paint_color      9267\n",
       "is_4wd          25953\n",
       "date_posted         0\n",
       "days_listed         0\n",
       "dtype: int64"
      ]
     },
     "execution_count": 6,
     "metadata": {},
     "output_type": "execute_result"
    }
   ],
   "source": [
    "df.isnull().sum()"
   ]
  },
  {
   "cell_type": "markdown",
   "id": "85f79ff0",
   "metadata": {},
   "source": [
    "<font color='red'> found missing value at column model_year, cylinders, odometer, paint_color, is_4wd"
   ]
  },
  {
   "cell_type": "code",
   "execution_count": 7,
   "id": "cd5a07ee",
   "metadata": {},
   "outputs": [
    {
     "data": {
      "text/plain": [
       "model\n",
       "acura tl             2007.0\n",
       "bmw x5               2010.0\n",
       "buick enclave        2012.0\n",
       "cadillac escalade    2009.0\n",
       "chevrolet camaro     2013.0\n",
       "                      ...  \n",
       "toyota sienna        2008.0\n",
       "toyota tacoma        2010.0\n",
       "toyota tundra        2009.0\n",
       "volkswagen jetta     2012.0\n",
       "volkswagen passat    2013.0\n",
       "Name: model_year, Length: 100, dtype: float64"
      ]
     },
     "execution_count": 7,
     "metadata": {},
     "output_type": "execute_result"
    }
   ],
   "source": [
    "model_year_median = df.groupby('model')['model_year'].median()\n",
    "model_year_median"
   ]
  },
  {
   "cell_type": "markdown",
   "id": "01b81e70",
   "metadata": {},
   "source": [
    "<font color='red'> group model and model year for median value"
   ]
  },
  {
   "cell_type": "code",
   "execution_count": 8,
   "id": "003cd9d7",
   "metadata": {},
   "outputs": [
    {
     "data": {
      "text/plain": [
       "0    2011.0\n",
       "1    2011.0\n",
       "2    2013.0\n",
       "3    2003.0\n",
       "4    2017.0\n",
       "Name: model_year, dtype: float64"
      ]
     },
     "execution_count": 8,
     "metadata": {},
     "output_type": "execute_result"
    }
   ],
   "source": [
    "df['model_year'] = df.apply(lambda row: model_year_median[row['model']] if pd.isna(row['model_year']) else row['model_year'], axis=1)\n",
    "df['model_year'].head()"
   ]
  },
  {
   "cell_type": "markdown",
   "id": "37a564bb",
   "metadata": {},
   "source": [
    "<font color='red'> fill model_year with median filling"
   ]
  },
  {
   "cell_type": "code",
   "execution_count": 9,
   "id": "e644a86e",
   "metadata": {},
   "outputs": [],
   "source": [
    "df['model_year'] = df['model_year'].astype(int)"
   ]
  },
  {
   "cell_type": "markdown",
   "id": "52172e75",
   "metadata": {},
   "source": [
    "<font color='red'> model_year value convert to interger"
   ]
  },
  {
   "cell_type": "code",
   "execution_count": 38,
   "id": "071109b5",
   "metadata": {},
   "outputs": [
    {
     "data": {
      "text/plain": [
       "model_year\n",
       "1908    169328.000000\n",
       "1929              NaN\n",
       "1936     30000.000000\n",
       "1948      4000.000000\n",
       "1949      1800.000000\n",
       "            ...      \n",
       "2015     82503.819348\n",
       "2016     61256.083854\n",
       "2017     47317.910506\n",
       "2018     25309.197445\n",
       "2019     17076.810976\n",
       "Name: odometer, Length: 68, dtype: float64"
      ]
     },
     "execution_count": 38,
     "metadata": {},
     "output_type": "execute_result"
    }
   ],
   "source": [
    "odometer_mean = df.groupby('model_year')['odometer'].mean()\n",
    "odometer_mean"
   ]
  },
  {
   "cell_type": "markdown",
   "id": "df6dd4d0",
   "metadata": {},
   "source": [
    "<font color='red'> group model year and odometer for mean value"
   ]
  },
  {
   "cell_type": "code",
   "execution_count": 24,
   "id": "ead54a17",
   "metadata": {},
   "outputs": [
    {
     "data": {
      "text/plain": [
       "0    145000.000000\n",
       "1     88705.000000\n",
       "2    110000.000000\n",
       "3    162071.751024\n",
       "4     80903.000000\n",
       "Name: odometer, dtype: float64"
      ]
     },
     "execution_count": 24,
     "metadata": {},
     "output_type": "execute_result"
    }
   ],
   "source": [
    "df['odometer'] = df.apply(lambda row: odometer_mean[row['model_year']] if pd.isna(row['odometer']) else row['odometer'], axis=1)\n",
    "df['odometer'].head()"
   ]
  },
  {
   "cell_type": "markdown",
   "id": "5bbff861",
   "metadata": {},
   "source": [
    "<font color='red'> fill odometer with mean filling"
   ]
  },
  {
   "cell_type": "code",
   "execution_count": 26,
   "id": "9b3cca16",
   "metadata": {},
   "outputs": [
    {
     "data": {
      "text/html": [
       "<div>\n",
       "<style scoped>\n",
       "    .dataframe tbody tr th:only-of-type {\n",
       "        vertical-align: middle;\n",
       "    }\n",
       "\n",
       "    .dataframe tbody tr th {\n",
       "        vertical-align: top;\n",
       "    }\n",
       "\n",
       "    .dataframe thead th {\n",
       "        text-align: right;\n",
       "    }\n",
       "</style>\n",
       "<table border=\"1\" class=\"dataframe\">\n",
       "  <thead>\n",
       "    <tr style=\"text-align: right;\">\n",
       "      <th></th>\n",
       "      <th>price</th>\n",
       "      <th>model_year</th>\n",
       "      <th>model</th>\n",
       "      <th>condition</th>\n",
       "      <th>cylinders</th>\n",
       "      <th>fuel</th>\n",
       "      <th>odometer</th>\n",
       "      <th>transmission</th>\n",
       "      <th>type</th>\n",
       "      <th>paint_color</th>\n",
       "      <th>is_4wd</th>\n",
       "      <th>date_posted</th>\n",
       "      <th>days_listed</th>\n",
       "    </tr>\n",
       "  </thead>\n",
       "  <tbody>\n",
       "    <tr>\n",
       "      <th>45694</th>\n",
       "      <td>18000</td>\n",
       "      <td>1929</td>\n",
       "      <td>ford f-150</td>\n",
       "      <td>good</td>\n",
       "      <td>8</td>\n",
       "      <td>gas</td>\n",
       "      <td>NaN</td>\n",
       "      <td>manual</td>\n",
       "      <td>other</td>\n",
       "      <td>silver</td>\n",
       "      <td>0</td>\n",
       "      <td>2018-11-18</td>\n",
       "      <td>59</td>\n",
       "    </tr>\n",
       "  </tbody>\n",
       "</table>\n",
       "</div>"
      ],
      "text/plain": [
       "       price  model_year       model condition  cylinders fuel  odometer  \\\n",
       "45694  18000        1929  ford f-150      good          8  gas       NaN   \n",
       "\n",
       "      transmission   type paint_color  is_4wd date_posted  days_listed  \n",
       "45694       manual  other      silver       0  2018-11-18           59  "
      ]
     },
     "execution_count": 26,
     "metadata": {},
     "output_type": "execute_result"
    }
   ],
   "source": [
    "check = df[df['odometer'].isnull()]\n",
    "check"
   ]
  },
  {
   "cell_type": "markdown",
   "id": "3c5b1cd5",
   "metadata": {},
   "source": [
    "<font color='red'> odometer on year 1929 still have NAN"
   ]
  },
  {
   "cell_type": "code",
   "execution_count": 28,
   "id": "f67c2220",
   "metadata": {},
   "outputs": [
    {
     "data": {
      "text/html": [
       "<div>\n",
       "<style scoped>\n",
       "    .dataframe tbody tr th:only-of-type {\n",
       "        vertical-align: middle;\n",
       "    }\n",
       "\n",
       "    .dataframe tbody tr th {\n",
       "        vertical-align: top;\n",
       "    }\n",
       "\n",
       "    .dataframe thead th {\n",
       "        text-align: right;\n",
       "    }\n",
       "</style>\n",
       "<table border=\"1\" class=\"dataframe\">\n",
       "  <thead>\n",
       "    <tr style=\"text-align: right;\">\n",
       "      <th></th>\n",
       "      <th>price</th>\n",
       "      <th>model_year</th>\n",
       "      <th>model</th>\n",
       "      <th>condition</th>\n",
       "      <th>cylinders</th>\n",
       "      <th>fuel</th>\n",
       "      <th>odometer</th>\n",
       "      <th>transmission</th>\n",
       "      <th>type</th>\n",
       "      <th>paint_color</th>\n",
       "      <th>is_4wd</th>\n",
       "      <th>date_posted</th>\n",
       "      <th>days_listed</th>\n",
       "    </tr>\n",
       "  </thead>\n",
       "  <tbody>\n",
       "    <tr>\n",
       "      <th>45694</th>\n",
       "      <td>18000</td>\n",
       "      <td>1929</td>\n",
       "      <td>ford f-150</td>\n",
       "      <td>good</td>\n",
       "      <td>8</td>\n",
       "      <td>gas</td>\n",
       "      <td>NaN</td>\n",
       "      <td>manual</td>\n",
       "      <td>other</td>\n",
       "      <td>silver</td>\n",
       "      <td>0</td>\n",
       "      <td>2018-11-18</td>\n",
       "      <td>59</td>\n",
       "    </tr>\n",
       "  </tbody>\n",
       "</table>\n",
       "</div>"
      ],
      "text/plain": [
       "       price  model_year       model condition  cylinders fuel  odometer  \\\n",
       "45694  18000        1929  ford f-150      good          8  gas       NaN   \n",
       "\n",
       "      transmission   type paint_color  is_4wd date_posted  days_listed  \n",
       "45694       manual  other      silver       0  2018-11-18           59  "
      ]
     },
     "execution_count": 28,
     "metadata": {},
     "output_type": "execute_result"
    }
   ],
   "source": [
    "check_model_year = df[df['model_year'] == 1929] \n",
    "check_model_year"
   ]
  },
  {
   "cell_type": "markdown",
   "id": "b30f3287",
   "metadata": {},
   "source": [
    "<font color='red'> odometer on year 1929 still have NAN"
   ]
  },
  {
   "cell_type": "code",
   "execution_count": 39,
   "id": "4756e58d",
   "metadata": {},
   "outputs": [],
   "source": [
    "odometer_mean_fill = df['odometer'].mean()"
   ]
  },
  {
   "cell_type": "code",
   "execution_count": 40,
   "id": "89c01b93",
   "metadata": {},
   "outputs": [],
   "source": [
    "df['odometer'].fillna(odometer_mean_fill, inplace=True)"
   ]
  },
  {
   "cell_type": "code",
   "execution_count": 41,
   "id": "a604bd3b",
   "metadata": {},
   "outputs": [
    {
     "data": {
      "text/plain": [
       "0        145000\n",
       "1         88705\n",
       "2        110000\n",
       "3        162071\n",
       "4         80903\n",
       "          ...  \n",
       "51520     88136\n",
       "51521    181500\n",
       "51522    128000\n",
       "51523    139573\n",
       "51524     93648\n",
       "Name: odometer, Length: 51525, dtype: int64"
      ]
     },
     "execution_count": 41,
     "metadata": {},
     "output_type": "execute_result"
    }
   ],
   "source": [
    "df['odometer'].astype(int)"
   ]
  },
  {
   "cell_type": "code",
   "execution_count": 13,
   "id": "9bb19e41",
   "metadata": {},
   "outputs": [
    {
     "data": {
      "text/plain": [
       "model\n",
       "acura tl             6.0\n",
       "bmw x5               6.0\n",
       "buick enclave        6.0\n",
       "cadillac escalade    8.0\n",
       "chevrolet camaro     6.0\n",
       "                    ... \n",
       "toyota sienna        6.0\n",
       "toyota tacoma        6.0\n",
       "toyota tundra        8.0\n",
       "volkswagen jetta     4.0\n",
       "volkswagen passat    4.0\n",
       "Name: cylinders, Length: 100, dtype: float64"
      ]
     },
     "execution_count": 13,
     "metadata": {},
     "output_type": "execute_result"
    }
   ],
   "source": [
    "cylinders_median = df.groupby('model')['cylinders'].median()\n",
    "cylinders_median"
   ]
  },
  {
   "cell_type": "markdown",
   "id": "c58958cd",
   "metadata": {},
   "source": [
    "<font color='red'> group cylinders and model for median value"
   ]
  },
  {
   "cell_type": "code",
   "execution_count": 14,
   "id": "5f79b743",
   "metadata": {},
   "outputs": [
    {
     "data": {
      "text/html": [
       "<div>\n",
       "<style scoped>\n",
       "    .dataframe tbody tr th:only-of-type {\n",
       "        vertical-align: middle;\n",
       "    }\n",
       "\n",
       "    .dataframe tbody tr th {\n",
       "        vertical-align: top;\n",
       "    }\n",
       "\n",
       "    .dataframe thead th {\n",
       "        text-align: right;\n",
       "    }\n",
       "</style>\n",
       "<table border=\"1\" class=\"dataframe\">\n",
       "  <thead>\n",
       "    <tr style=\"text-align: right;\">\n",
       "      <th></th>\n",
       "      <th>price</th>\n",
       "      <th>model_year</th>\n",
       "      <th>model</th>\n",
       "      <th>condition</th>\n",
       "      <th>cylinders</th>\n",
       "      <th>fuel</th>\n",
       "      <th>odometer</th>\n",
       "      <th>transmission</th>\n",
       "      <th>type</th>\n",
       "      <th>paint_color</th>\n",
       "      <th>is_4wd</th>\n",
       "      <th>date_posted</th>\n",
       "      <th>days_listed</th>\n",
       "    </tr>\n",
       "  </thead>\n",
       "  <tbody>\n",
       "    <tr>\n",
       "      <th>0</th>\n",
       "      <td>9400</td>\n",
       "      <td>2011</td>\n",
       "      <td>bmw x5</td>\n",
       "      <td>good</td>\n",
       "      <td>6.0</td>\n",
       "      <td>gas</td>\n",
       "      <td>145000.000000</td>\n",
       "      <td>automatic</td>\n",
       "      <td>SUV</td>\n",
       "      <td>NaN</td>\n",
       "      <td>1.0</td>\n",
       "      <td>2018-06-23</td>\n",
       "      <td>19</td>\n",
       "    </tr>\n",
       "    <tr>\n",
       "      <th>1</th>\n",
       "      <td>25500</td>\n",
       "      <td>2011</td>\n",
       "      <td>ford f-150</td>\n",
       "      <td>good</td>\n",
       "      <td>6.0</td>\n",
       "      <td>gas</td>\n",
       "      <td>88705.000000</td>\n",
       "      <td>automatic</td>\n",
       "      <td>pickup</td>\n",
       "      <td>white</td>\n",
       "      <td>1.0</td>\n",
       "      <td>2018-10-19</td>\n",
       "      <td>50</td>\n",
       "    </tr>\n",
       "    <tr>\n",
       "      <th>2</th>\n",
       "      <td>5500</td>\n",
       "      <td>2013</td>\n",
       "      <td>hyundai sonata</td>\n",
       "      <td>like new</td>\n",
       "      <td>4.0</td>\n",
       "      <td>gas</td>\n",
       "      <td>110000.000000</td>\n",
       "      <td>automatic</td>\n",
       "      <td>sedan</td>\n",
       "      <td>red</td>\n",
       "      <td>NaN</td>\n",
       "      <td>2019-02-07</td>\n",
       "      <td>79</td>\n",
       "    </tr>\n",
       "    <tr>\n",
       "      <th>3</th>\n",
       "      <td>1500</td>\n",
       "      <td>2003</td>\n",
       "      <td>ford f-150</td>\n",
       "      <td>fair</td>\n",
       "      <td>8.0</td>\n",
       "      <td>gas</td>\n",
       "      <td>162071.751024</td>\n",
       "      <td>automatic</td>\n",
       "      <td>pickup</td>\n",
       "      <td>NaN</td>\n",
       "      <td>NaN</td>\n",
       "      <td>2019-03-22</td>\n",
       "      <td>9</td>\n",
       "    </tr>\n",
       "    <tr>\n",
       "      <th>4</th>\n",
       "      <td>14900</td>\n",
       "      <td>2017</td>\n",
       "      <td>chrysler 200</td>\n",
       "      <td>excellent</td>\n",
       "      <td>4.0</td>\n",
       "      <td>gas</td>\n",
       "      <td>80903.000000</td>\n",
       "      <td>automatic</td>\n",
       "      <td>sedan</td>\n",
       "      <td>black</td>\n",
       "      <td>NaN</td>\n",
       "      <td>2019-04-02</td>\n",
       "      <td>28</td>\n",
       "    </tr>\n",
       "  </tbody>\n",
       "</table>\n",
       "</div>"
      ],
      "text/plain": [
       "   price  model_year           model  condition  cylinders fuel  \\\n",
       "0   9400        2011          bmw x5       good        6.0  gas   \n",
       "1  25500        2011      ford f-150       good        6.0  gas   \n",
       "2   5500        2013  hyundai sonata   like new        4.0  gas   \n",
       "3   1500        2003      ford f-150       fair        8.0  gas   \n",
       "4  14900        2017    chrysler 200  excellent        4.0  gas   \n",
       "\n",
       "        odometer transmission    type paint_color  is_4wd date_posted  \\\n",
       "0  145000.000000    automatic     SUV         NaN     1.0  2018-06-23   \n",
       "1   88705.000000    automatic  pickup       white     1.0  2018-10-19   \n",
       "2  110000.000000    automatic   sedan         red     NaN  2019-02-07   \n",
       "3  162071.751024    automatic  pickup         NaN     NaN  2019-03-22   \n",
       "4   80903.000000    automatic   sedan       black     NaN  2019-04-02   \n",
       "\n",
       "   days_listed  \n",
       "0           19  \n",
       "1           50  \n",
       "2           79  \n",
       "3            9  \n",
       "4           28  "
      ]
     },
     "execution_count": 14,
     "metadata": {},
     "output_type": "execute_result"
    }
   ],
   "source": [
    "df['cylinders'] = df.apply(lambda row: cylinders_median[row['model']] if pd.isna(row['cylinders']) else row['cylinders'], axis=1)\n",
    "df.head()"
   ]
  },
  {
   "cell_type": "markdown",
   "id": "326787c5",
   "metadata": {},
   "source": [
    "<font color='red'> fill cylinders with median filling"
   ]
  },
  {
   "cell_type": "code",
   "execution_count": 15,
   "id": "b327d240",
   "metadata": {},
   "outputs": [],
   "source": [
    "df['cylinders'] = df['cylinders'].astype(int)"
   ]
  },
  {
   "cell_type": "markdown",
   "id": "ade49a04",
   "metadata": {},
   "source": [
    "<font color='red'>type to interger"
   ]
  },
  {
   "cell_type": "code",
   "execution_count": 16,
   "id": "47aee9f4",
   "metadata": {},
   "outputs": [
    {
     "data": {
      "text/plain": [
       "0"
      ]
     },
     "execution_count": 16,
     "metadata": {},
     "output_type": "execute_result"
    }
   ],
   "source": [
    "df['cylinders'].isnull().sum()"
   ]
  },
  {
   "cell_type": "markdown",
   "id": "86c449be",
   "metadata": {},
   "source": [
    "<font color='red'>no more missing value in cylinders"
   ]
  },
  {
   "cell_type": "code",
   "execution_count": 17,
   "id": "8316d185",
   "metadata": {},
   "outputs": [],
   "source": [
    "df['paint_color'].fillna('no info', inplace=True)"
   ]
  },
  {
   "cell_type": "markdown",
   "id": "07327024",
   "metadata": {},
   "source": [
    "<font color='red'>fill paint_color with no info"
   ]
  },
  {
   "cell_type": "code",
   "execution_count": 18,
   "id": "e17ef132",
   "metadata": {},
   "outputs": [],
   "source": [
    "df['is_4wd'].fillna(0, inplace=True)"
   ]
  },
  {
   "cell_type": "markdown",
   "id": "c1ca4775",
   "metadata": {},
   "source": [
    "<font color='red'>fill is_4wd by 0"
   ]
  },
  {
   "cell_type": "code",
   "execution_count": 19,
   "id": "afe132a2",
   "metadata": {},
   "outputs": [],
   "source": [
    "df['is_4wd'] = df['is_4wd'].astype(int)"
   ]
  },
  {
   "cell_type": "markdown",
   "id": "d346ed86",
   "metadata": {},
   "source": [
    "<font color='red'>type to interger"
   ]
  },
  {
   "cell_type": "code",
   "execution_count": 32,
   "id": "88191832",
   "metadata": {},
   "outputs": [
    {
     "data": {
      "text/plain": [
       "price           0\n",
       "model_year      0\n",
       "model           0\n",
       "condition       0\n",
       "cylinders       0\n",
       "fuel            0\n",
       "odometer        1\n",
       "transmission    0\n",
       "type            0\n",
       "paint_color     0\n",
       "is_4wd          0\n",
       "date_posted     0\n",
       "days_listed     0\n",
       "dtype: int64"
      ]
     },
     "execution_count": 32,
     "metadata": {},
     "output_type": "execute_result"
    }
   ],
   "source": [
    "df.isnull().sum()"
   ]
  },
  {
   "cell_type": "markdown",
   "id": "8c767e07",
   "metadata": {},
   "source": [
    "<font color='red'>no missing value found"
   ]
  },
  {
   "cell_type": "code",
   "execution_count": 51,
   "id": "f662f960",
   "metadata": {},
   "outputs": [
    {
     "data": {
      "text/html": [
       "<div>\n",
       "<style scoped>\n",
       "    .dataframe tbody tr th:only-of-type {\n",
       "        vertical-align: middle;\n",
       "    }\n",
       "\n",
       "    .dataframe tbody tr th {\n",
       "        vertical-align: top;\n",
       "    }\n",
       "\n",
       "    .dataframe thead th {\n",
       "        text-align: right;\n",
       "    }\n",
       "</style>\n",
       "<table border=\"1\" class=\"dataframe\">\n",
       "  <thead>\n",
       "    <tr style=\"text-align: right;\">\n",
       "      <th></th>\n",
       "      <th>price</th>\n",
       "      <th>model_year</th>\n",
       "      <th>model</th>\n",
       "      <th>condition</th>\n",
       "      <th>cylinders</th>\n",
       "      <th>fuel</th>\n",
       "      <th>odometer</th>\n",
       "      <th>transmission</th>\n",
       "      <th>type</th>\n",
       "      <th>paint_color</th>\n",
       "      <th>is_4wd</th>\n",
       "      <th>date_posted</th>\n",
       "      <th>days_listed</th>\n",
       "    </tr>\n",
       "  </thead>\n",
       "  <tbody>\n",
       "    <tr>\n",
       "      <th>0</th>\n",
       "      <td>9400</td>\n",
       "      <td>2011</td>\n",
       "      <td>bmw x5</td>\n",
       "      <td>good</td>\n",
       "      <td>6</td>\n",
       "      <td>gas</td>\n",
       "      <td>145000.000000</td>\n",
       "      <td>automatic</td>\n",
       "      <td>SUV</td>\n",
       "      <td>no info</td>\n",
       "      <td>1</td>\n",
       "      <td>2018-06-23</td>\n",
       "      <td>19</td>\n",
       "    </tr>\n",
       "    <tr>\n",
       "      <th>1</th>\n",
       "      <td>25500</td>\n",
       "      <td>2011</td>\n",
       "      <td>ford f-150</td>\n",
       "      <td>good</td>\n",
       "      <td>6</td>\n",
       "      <td>gas</td>\n",
       "      <td>88705.000000</td>\n",
       "      <td>automatic</td>\n",
       "      <td>pickup</td>\n",
       "      <td>white</td>\n",
       "      <td>1</td>\n",
       "      <td>2018-10-19</td>\n",
       "      <td>50</td>\n",
       "    </tr>\n",
       "    <tr>\n",
       "      <th>2</th>\n",
       "      <td>5500</td>\n",
       "      <td>2013</td>\n",
       "      <td>hyundai sonata</td>\n",
       "      <td>like new</td>\n",
       "      <td>4</td>\n",
       "      <td>gas</td>\n",
       "      <td>110000.000000</td>\n",
       "      <td>automatic</td>\n",
       "      <td>sedan</td>\n",
       "      <td>red</td>\n",
       "      <td>0</td>\n",
       "      <td>2019-02-07</td>\n",
       "      <td>79</td>\n",
       "    </tr>\n",
       "    <tr>\n",
       "      <th>3</th>\n",
       "      <td>1500</td>\n",
       "      <td>2003</td>\n",
       "      <td>ford f-150</td>\n",
       "      <td>fair</td>\n",
       "      <td>8</td>\n",
       "      <td>gas</td>\n",
       "      <td>162071.751024</td>\n",
       "      <td>automatic</td>\n",
       "      <td>pickup</td>\n",
       "      <td>no info</td>\n",
       "      <td>0</td>\n",
       "      <td>2019-03-22</td>\n",
       "      <td>9</td>\n",
       "    </tr>\n",
       "    <tr>\n",
       "      <th>4</th>\n",
       "      <td>14900</td>\n",
       "      <td>2017</td>\n",
       "      <td>chrysler 200</td>\n",
       "      <td>excellent</td>\n",
       "      <td>4</td>\n",
       "      <td>gas</td>\n",
       "      <td>80903.000000</td>\n",
       "      <td>automatic</td>\n",
       "      <td>sedan</td>\n",
       "      <td>black</td>\n",
       "      <td>0</td>\n",
       "      <td>2019-04-02</td>\n",
       "      <td>28</td>\n",
       "    </tr>\n",
       "  </tbody>\n",
       "</table>\n",
       "</div>"
      ],
      "text/plain": [
       "   price  model_year           model  condition  cylinders fuel  \\\n",
       "0   9400        2011          bmw x5       good          6  gas   \n",
       "1  25500        2011      ford f-150       good          6  gas   \n",
       "2   5500        2013  hyundai sonata   like new          4  gas   \n",
       "3   1500        2003      ford f-150       fair          8  gas   \n",
       "4  14900        2017    chrysler 200  excellent          4  gas   \n",
       "\n",
       "        odometer transmission    type paint_color  is_4wd date_posted  \\\n",
       "0  145000.000000    automatic     SUV     no info       1  2018-06-23   \n",
       "1   88705.000000    automatic  pickup       white       1  2018-10-19   \n",
       "2  110000.000000    automatic   sedan         red       0  2019-02-07   \n",
       "3  162071.751024    automatic  pickup     no info       0  2019-03-22   \n",
       "4   80903.000000    automatic   sedan       black       0  2019-04-02   \n",
       "\n",
       "   days_listed  \n",
       "0           19  \n",
       "1           50  \n",
       "2           79  \n",
       "3            9  \n",
       "4           28  "
      ]
     },
     "execution_count": 51,
     "metadata": {},
     "output_type": "execute_result"
    }
   ],
   "source": [
    "df.head()"
   ]
  },
  {
   "cell_type": "markdown",
   "id": "69839cb4",
   "metadata": {},
   "source": [
    "<font color='red'>display table all with int"
   ]
  },
  {
   "cell_type": "code",
   "execution_count": 47,
   "id": "95db9253",
   "metadata": {},
   "outputs": [],
   "source": [
    "plt.style.use('dark_background')"
   ]
  },
  {
   "cell_type": "code",
   "execution_count": 48,
   "id": "21d536ca",
   "metadata": {},
   "outputs": [
    {
     "data": {
      "image/png": "[encoded data removed]",
      "text/plain": [
       "<Figure size 800x700 with 1 Axes>"
      ]
     },
     "metadata": {},
     "output_type": "display_data"
    }
   ],
   "source": [
    "fig, ax = plt.subplots(figsize=(8,7))\n",
    "ax = sns.histplot(df, x=\"model\", \n",
    "                  hue=\"condition\")"
   ]
  },
  {
   "cell_type": "markdown",
   "id": "fd3d3e71",
   "metadata": {},
   "source": [
    "<font color='red'>visualization histogram"
   ]
  },
  {
   "cell_type": "code",
   "execution_count": 50,
   "id": "df428588",
   "metadata": {},
   "outputs": [
    {
     "data": {
      "image/png": "[encoded data removed]",
      "text/plain": [
       "<Figure size 640x480 with 1 Axes>"
      ]
     },
     "metadata": {},
     "output_type": "display_data"
    }
   ],
   "source": [
    "df.plot(kind = 'scatter', \n",
    "                          title = 'vehicles',\n",
    "                          x = 'model_year',\n",
    "                          y = 'price',\n",
    "                          xlabel = 'model_year',\n",
    "                          ylabel = 'price'\n",
    "                          )\n",
    "\n",
    "plt.show()"
   ]
  },
  {
   "cell_type": "markdown",
   "id": "5ed16b17",
   "metadata": {},
   "source": [
    "<font color='red'>visualization scatter"
   ]
  },
  {
   "cell_type": "markdown",
   "id": "931040ce",
   "metadata": {},
   "source": [
    "<font color='blue'> conclusions \n",
    "    * creating and managing python virtual environments, developing a web application, and deploying it to a cloud service and make it accessible to the public\n",
    "    * the target to achieve web app accessible via a browser, and can be visualize more easier with check box the graph"
   ]
  },
  {
   "cell_type": "code",
   "execution_count": null,
   "id": "d8c245b2",
   "metadata": {},
   "outputs": [],
   "source": []
  }
 ],
 "metadata": {
  "kernelspec": {
   "display_name": "Python 3 (ipykernel)",
   "language": "python",
   "name": "python3"
  },
  "language_info": {
   "codemirror_mode": {
    "name": "ipython",
    "version": 3
   },
   "file_extension": ".py",
   "mimetype": "text/x-python",
   "name": "python",
   "nbconvert_exporter": "python",
   "pygments_lexer": "ipython3",
   "version": "3.9.13"
  }
 },
 "nbformat": 4,
 "nbformat_minor": 5
}
